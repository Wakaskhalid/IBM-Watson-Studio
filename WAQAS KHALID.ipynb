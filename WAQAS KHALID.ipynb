{
    "cells": [
        {
            "metadata": {
                "collapsed": true
            },
            "cell_type": "markdown",
            "source": "# My Jupyter Notebook on IBM Watson Studio"
        },
        {
            "metadata": {},
            "cell_type": "markdown",
            "source": "## WAQAS KHALID"
        },
        {
            "metadata": {},
            "cell_type": "markdown",
            "source": "Inspired Data Scientist"
        },
        {
            "metadata": {},
            "cell_type": "markdown",
            "source": "*I am interested in data science because i love to play with Data. Presently, i am doing clerical job but i want to switch my dream job as Data Scientist. For this purpose i am doing hardwork to achieve my desired goal.*"
        },
        {
            "metadata": {},
            "cell_type": "markdown",
            "source": "### The Following Code Test the Plus, Substraction, Multiplication and Division"
        },
        {
            "metadata": {},
            "cell_type": "code",
            "source": "3+3",
            "execution_count": 33,
            "outputs": [
                {
                    "output_type": "execute_result",
                    "execution_count": 33,
                    "data": {
                        "text/plain": "6"
                    },
                    "metadata": {}
                }
            ]
        },
        {
            "metadata": {},
            "cell_type": "code",
            "source": "3-3",
            "execution_count": 34,
            "outputs": [
                {
                    "output_type": "execute_result",
                    "execution_count": 34,
                    "data": {
                        "text/plain": "0"
                    },
                    "metadata": {}
                }
            ]
        },
        {
            "metadata": {},
            "cell_type": "code",
            "source": "3*3",
            "execution_count": 35,
            "outputs": [
                {
                    "output_type": "execute_result",
                    "execution_count": 35,
                    "data": {
                        "text/plain": "9"
                    },
                    "metadata": {}
                }
            ]
        },
        {
            "metadata": {},
            "cell_type": "code",
            "source": "3/3",
            "execution_count": 37,
            "outputs": [
                {
                    "output_type": "execute_result",
                    "execution_count": 37,
                    "data": {
                        "text/plain": "1.0"
                    },
                    "metadata": {}
                }
            ]
        },
        {
            "metadata": {},
            "cell_type": "markdown",
            "source": "~~strikethoroug this.~~"
        },
        {
            "metadata": {},
            "cell_type": "markdown",
            "source": "If you want to know about me please click [here](https://www.google.com)"
        },
        {
            "metadata": {},
            "cell_type": "markdown",
            "source": "My Logo:\n    \n![alt text](https://github.com/adam-p/markdown-here/raw/master/src/common/images/icon48.png \"Logo Title Text 1\")\n"
        },
        {
            "metadata": {},
            "cell_type": "markdown",
            "source": "I am `hardworking boy` and i love to `help` my fellows"
        },
        {
            "metadata": {},
            "cell_type": "markdown",
            "source": "| **S NO**| **Customer Details**| **Monthly Deposited** |\n| ----|:---------------:| -----------------:|\n| 01  | Jimy            |   $1 |\n"
        },
        {
            "metadata": {},
            "cell_type": "markdown",
            "source": "> Blockquotes are very handy in email to emulate reply text.\n> This line is part of the same quote.\n\nQuote break.\n\n> This is a very long line that will still be quoted properly when it wraps. Oh boy let's keep writing to make sure this is long enough to actually wrap for everyone. Oh, you can *put* **Markdown** into a blockquote. "
        },
        {
            "metadata": {},
            "cell_type": "markdown",
            "source": "<dl>\n<dt>Introduction</dt>\n        <dd>waqas is a hardworking boy and he want to achieved his dreams</dd>\n    <dt>My Story</dt>\n    <dd>I am **32** years old</dd>\n"
        },
        {
            "metadata": {},
            "cell_type": "markdown",
            "source": "Three or more...\n\n---\n\nHyphens\n\n***\n\nAsterisks\n\n___\n\nUnderscores"
        },
        {
            "metadata": {},
            "cell_type": "markdown",
            "source": "Here's a line for us to start with.\n\nThis line is separated from the one above by two newlines, so it will be a *separate paragraph*.\nThis line is also a separate paragraph, but...\nThis line is only separated by a single newline, so it's a separate line in the *same paragraph*."
        },
        {
            "metadata": {},
            "cell_type": "markdown",
            "source": "1. red\n2. black\n3. pink\n   * light pink.\n4. purple\n   * Shaded Purple.\n5. yellow\n"
        },
        {
            "metadata": {},
            "cell_type": "code",
            "source": "",
            "execution_count": null,
            "outputs": []
        }
    ],
    "metadata": {
        "kernelspec": {
            "name": "python3",
            "display_name": "Python 3.10",
            "language": "python"
        },
        "language_info": {
            "name": "python",
            "version": "3.10.6",
            "mimetype": "text/x-python",
            "codemirror_mode": {
                "name": "ipython",
                "version": 3
            },
            "pygments_lexer": "ipython3",
            "nbconvert_exporter": "python",
            "file_extension": ".py"
        }
    },
    "nbformat": 4,
    "nbformat_minor": 1
}